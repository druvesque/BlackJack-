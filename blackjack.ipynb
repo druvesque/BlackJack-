{
 "cells": [
  {
   "cell_type": "code",
   "execution_count": 1,
   "id": "831d08fb-1ac7-42e7-aebd-d5a37c17863f",
   "metadata": {},
   "outputs": [],
   "source": [
    "#BlackJack\n",
    "from random import choice\n",
    "from IPython.display import clear_output\n",
    "\n",
    "def deal_card():\n",
    "    cards = [11, 2, 3, 4, 5, 6, 7, 8, 9, 10, 10, 10, 10]\n",
    "    random_card = choice(cards)\n",
    "    return random_card\n",
    "\n",
    "def calculate_score(card_list):\n",
    "    if sum(card_list) == 21 and len(card_list) == 2:\n",
    "        return 0\n",
    "    if 11 in card_list and sum(card_list) > 21:\n",
    "        card_list.remove(11)\n",
    "        card_list.append(1)\n",
    "    return sum(card_list)\n",
    "\n",
    "def compare(user_score, computer_score):\n",
    "    if user_score == computer_score:\n",
    "        return \"Draw\"\n",
    "    elif computer_score == 0:\n",
    "        return \"You lost, your opponent has a BlackJack\"\n",
    "    elif user_score == 0:\n",
    "        return \"You Won with a BlackJack\"\n",
    "    elif user_score > 21:\n",
    "        return \"You went over 21, You Lost\"\n",
    "    elif computer_score > 21:\n",
    "        return \"Opponent went over 21, You Won\"\n",
    "    elif user_score > computer_score:\n",
    "        return \"You Win!\"\n",
    "    else:\n",
    "        return \"You Lost!\"\n",
    "    \n",
    "def play_game():\n",
    "    user_cards = []\n",
    "    computer_cards = []\n",
    "    is_game_over = False\n",
    "    for i in range(2):\n",
    "        user_cards.append(deal_card())\n",
    "        computer_cards.append(deal_card())\n",
    "    \n",
    "    while is_game_over == False:\n",
    "        user_score = calculate_score(user_cards)\n",
    "        computer_score = calculate_score(computer_cards)\n",
    "        print(f\"Your Cards: {user_cards} , current score: {user_score}\")\n",
    "        print(f\"Computer's first card: {computer_cards[0]}\")\n",
    "        if user_score == 0 or computer_score == 0 or user_score > 21:\n",
    "            is_game_over = True\n",
    "        else:\n",
    "            user_should_deal = input(\"Type 'y' to get another card and 'n' to pass: \")\n",
    "            if user_should_deal == 'y':\n",
    "                user_cards.append(deal_card())\n",
    "            else:\n",
    "                is_game_over = True\n",
    "    \n",
    "    while computer_score != 0 and computer_score < 17:\n",
    "        computer_cards.append(deal_card())\n",
    "        computer_score = calculate_score(computer_cards)\n",
    "        \n",
    "    result = compare(user_score, computer_score)\n",
    "    print(f\"Your final hand: {user_cards} and your final score: {user_score}\")\n",
    "    print(f\"Opponent's final hand: {computer_cards} and opponents final score: {computer_score}\")\n",
    "    print(result)"
   ]
  },
  {
   "cell_type": "code",
   "execution_count": 4,
   "id": "9142c37a-e2a2-4ddc-94b4-0a2b97f1bab0",
   "metadata": {},
   "outputs": [
    {
     "name": "stdout",
     "output_type": "stream",
     "text": [
      "Your Cards: [3, 7] , current score: 10\n",
      "Computer's first card: 6\n"
     ]
    },
    {
     "name": "stdin",
     "output_type": "stream",
     "text": [
      "Type 'y' to get another card and 'n' to pass:  y\n"
     ]
    },
    {
     "name": "stdout",
     "output_type": "stream",
     "text": [
      "Your Cards: [3, 7, 5] , current score: 15\n",
      "Computer's first card: 6\n"
     ]
    },
    {
     "name": "stdin",
     "output_type": "stream",
     "text": [
      "Type 'y' to get another card and 'n' to pass:  y\n"
     ]
    },
    {
     "name": "stdout",
     "output_type": "stream",
     "text": [
      "Your Cards: [3, 7, 5, 3] , current score: 18\n",
      "Computer's first card: 6\n"
     ]
    },
    {
     "name": "stdin",
     "output_type": "stream",
     "text": [
      "Type 'y' to get another card and 'n' to pass:  n\n"
     ]
    },
    {
     "name": "stdout",
     "output_type": "stream",
     "text": [
      "Your final hand: [3, 7, 5, 3] and your final score: 18\n",
      "Opponent's final hand: [6, 10, 6] and opponents final score: 22\n",
      "Opponent went over 21, You Won\n"
     ]
    },
    {
     "name": "stdin",
     "output_type": "stream",
     "text": [
      "Do you want to play a game of BlackJack? Type 'y' or 'n':  n\n"
     ]
    }
   ],
   "source": [
    "while input(\"Do you want to play a game of BlackJack? Type 'y' or 'n': \") == 'y':\n",
    "    clear_output(wait=True)\n",
    "    play_game()"
   ]
  }
 ],
 "metadata": {
  "kernelspec": {
   "display_name": "Python 3 (ipykernel)",
   "language": "python",
   "name": "python3"
  },
  "language_info": {
   "codemirror_mode": {
    "name": "ipython",
    "version": 3
   },
   "file_extension": ".py",
   "mimetype": "text/x-python",
   "name": "python",
   "nbconvert_exporter": "python",
   "pygments_lexer": "ipython3",
   "version": "3.11.7"
  }
 },
 "nbformat": 4,
 "nbformat_minor": 5
}
